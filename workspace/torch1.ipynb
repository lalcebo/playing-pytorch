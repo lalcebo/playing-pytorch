{
 "cells": [
  {
   "cell_type": "code",
   "execution_count": 1,
   "id": "ee3f992612c90e0f",
   "metadata": {
    "collapsed": false,
    "ExecuteTime": {
     "end_time": "2024-03-28T12:15:54.625372Z",
     "start_time": "2024-03-28T12:15:50.307786Z"
    }
   },
   "outputs": [
    {
     "name": "stdout",
     "output_type": "stream",
     "text": [
      "System Version: 3.11.6 | packaged by conda-forge | (main, Oct  3 2023, 10:40:35) [GCC 12.3.0]\n",
      "PyTorch version 2.2.1+cu121\n",
      "Torchvision version 0.17.1+cu121\n",
      "Numpy version 1.26.4\n",
      "Pandas version 2.2.1\n"
     ]
    }
   ],
   "source": [
    "import torch\n",
    "import torch.nn as nn\n",
    "import torch.optim as optim\n",
    "from torch.utils.data import Dataset, DataLoader\n",
    "import torchvision\n",
    "import torchvision.transforms as transforms\n",
    "from torchvision.datasets import ImageFolder\n",
    "import timm\n",
    "\n",
    "import matplotlib.pyplot as plt # For data viz\n",
    "import pandas as pd\n",
    "import numpy as np\n",
    "import sys\n",
    "from tqdm.notebook import tqdm\n",
    "\n",
    "print('System Version:', sys.version)\n",
    "print('PyTorch version', torch.__version__)\n",
    "print('Torchvision version', torchvision.__version__)\n",
    "print('Numpy version', np.__version__)\n",
    "print('Pandas version', pd.__version__)"
   ]
  },
  {
   "cell_type": "code",
   "execution_count": 2,
   "id": "c729ad28-0797-4250-a26b-50aaa8dc17c4",
   "metadata": {
    "ExecuteTime": {
     "end_time": "2024-03-28T12:16:10.378534Z",
     "start_time": "2024-03-28T12:16:10.372022Z"
    }
   },
   "outputs": [],
   "source": [
    "class PlayingCardDataset(Dataset):\n",
    "    def __init__(self, data_dir, transform=None):\n",
    "        self.data = ImageFolder(data_dir, transform=transform)\n",
    "\n",
    "    def __len__(self):\n",
    "        return len(self.data)\n",
    "\n",
    "    def __getitem__(self, idx):\n",
    "        return self.data[idx]\n",
    "\n",
    "    @property\n",
    "    def classes(self):\n",
    "        return self.data.classes"
   ]
  },
  {
   "cell_type": "code",
   "execution_count": 3,
   "id": "4be4fa62-d165-47ff-99b9-078117fe0b20",
   "metadata": {
    "ExecuteTime": {
     "end_time": "2024-03-28T12:16:12.837419Z",
     "start_time": "2024-03-28T12:16:12.806202Z"
    }
   },
   "outputs": [],
   "source": [
    "dataset = PlayingCardDataset(data_dir='/workspace/cards-image-dataset-classification/train')"
   ]
  },
  {
   "cell_type": "code",
   "execution_count": 4,
   "id": "e0446e19-49cd-4461-92b4-81053857a578",
   "metadata": {
    "ExecuteTime": {
     "end_time": "2024-03-28T12:16:14.220844Z",
     "start_time": "2024-03-28T12:16:14.213591Z"
    }
   },
   "outputs": [
    {
     "data": {
      "text/plain": "7624"
     },
     "execution_count": 4,
     "metadata": {},
     "output_type": "execute_result"
    }
   ],
   "source": [
    "len(dataset)"
   ]
  },
  {
   "cell_type": "code",
   "execution_count": 12,
   "id": "f56b8f6b-1dcd-44da-80e0-959abd35c55e",
   "metadata": {
    "ExecuteTime": {
     "end_time": "2024-03-28T12:17:57.262921Z",
     "start_time": "2024-03-28T12:17:57.254194Z"
    }
   },
   "outputs": [
    {
     "data": {
      "text/plain": "torch.Size([3, 128, 128])"
     },
     "execution_count": 12,
     "metadata": {},
     "output_type": "execute_result"
    }
   ],
   "source": [
    "image, label = dataset[6000]\n",
    "image.shape"
   ]
  },
  {
   "cell_type": "code",
   "execution_count": 9,
   "id": "32f024d8-1054-47d1-8e38-57ec5b6c0630",
   "metadata": {
    "ExecuteTime": {
     "end_time": "2024-03-28T12:16:55.112044Z",
     "start_time": "2024-03-28T12:16:55.056738Z"
    }
   },
   "outputs": [
    {
     "name": "stdout",
     "output_type": "stream",
     "text": [
      "{0: 'ace of clubs', 1: 'ace of diamonds', 2: 'ace of hearts', 3: 'ace of spades', 4: 'eight of clubs', 5: 'eight of diamonds', 6: 'eight of hearts', 7: 'eight of spades', 8: 'five of clubs', 9: 'five of diamonds', 10: 'five of hearts', 11: 'five of spades', 12: 'four of clubs', 13: 'four of diamonds', 14: 'four of hearts', 15: 'four of spades', 16: 'jack of clubs', 17: 'jack of diamonds', 18: 'jack of hearts', 19: 'jack of spades', 20: 'joker', 21: 'king of clubs', 22: 'king of diamonds', 23: 'king of hearts', 24: 'king of spades', 25: 'nine of clubs', 26: 'nine of diamonds', 27: 'nine of hearts', 28: 'nine of spades', 29: 'queen of clubs', 30: 'queen of diamonds', 31: 'queen of hearts', 32: 'queen of spades', 33: 'seven of clubs', 34: 'seven of diamonds', 35: 'seven of hearts', 36: 'seven of spades', 37: 'six of clubs', 38: 'six of diamonds', 39: 'six of hearts', 40: 'six of spades', 41: 'ten of clubs', 42: 'ten of diamonds', 43: 'ten of hearts', 44: 'ten of spades', 45: 'three of clubs', 46: 'three of diamonds', 47: 'three of hearts', 48: 'three of spades', 49: 'two of clubs', 50: 'two of diamonds', 51: 'two of hearts', 52: 'two of spades'}\n"
     ]
    }
   ],
   "source": [
    "data_dir = '/workspace/cards-image-dataset-classification/train'\n",
    "target_to_class = {v: k for k, v in ImageFolder(data_dir).class_to_idx.items()}\n",
    "print(target_to_class)"
   ]
  },
  {
   "cell_type": "code",
   "execution_count": 10,
   "id": "d13797d9-f952-43e4-a05a-6ac15eb0d5b0",
   "metadata": {
    "ExecuteTime": {
     "end_time": "2024-03-28T12:16:57.496306Z",
     "start_time": "2024-03-28T12:16:57.460540Z"
    }
   },
   "outputs": [],
   "source": [
    "transform = transforms.Compose([\n",
    "    transforms.Resize((128, 128)),\n",
    "    transforms.ToTensor(),\n",
    "])\n",
    "\n",
    "data_dir = '/workspace/cards-image-dataset-classification/train'\n",
    "dataset = PlayingCardDataset(data_dir, transform)"
   ]
  },
  {
   "cell_type": "code",
   "execution_count": 11,
   "id": "e1fb37e9-62fa-44ea-8688-9adffe3b39f5",
   "metadata": {
    "scrolled": true,
    "ExecuteTime": {
     "end_time": "2024-03-28T12:16:59.704921Z",
     "start_time": "2024-03-28T12:16:59.643620Z"
    }
   },
   "outputs": [
    {
     "data": {
      "text/plain": "(tensor([[[0.0000, 0.0039, 0.0078,  ..., 0.0039, 0.0039, 0.0039],\n          [0.0039, 0.0078, 0.0431,  ..., 0.0196, 0.0039, 0.0078],\n          [0.0235, 0.0392, 0.3490,  ..., 0.2392, 0.0314, 0.0118],\n          ...,\n          [0.0039, 0.0235, 0.2392,  ..., 0.2196, 0.0314, 0.0118],\n          [0.0039, 0.0039, 0.0235,  ..., 0.0118, 0.0078, 0.0039],\n          [0.0039, 0.0078, 0.0039,  ..., 0.0039, 0.0039, 0.0039]],\n \n         [[0.0078, 0.0078, 0.0039,  ..., 0.0039, 0.0039, 0.0039],\n          [0.0039, 0.0039, 0.0392,  ..., 0.0196, 0.0039, 0.0078],\n          [0.0078, 0.0275, 0.3373,  ..., 0.2392, 0.0275, 0.0078],\n          ...,\n          [0.0039, 0.0235, 0.2431,  ..., 0.2196, 0.0314, 0.0078],\n          [0.0039, 0.0039, 0.0235,  ..., 0.0157, 0.0078, 0.0039],\n          [0.0039, 0.0078, 0.0039,  ..., 0.0078, 0.0078, 0.0039]],\n \n         [[0.0196, 0.0196, 0.0118,  ..., 0.0118, 0.0118, 0.0118],\n          [0.0118, 0.0078, 0.0353,  ..., 0.0157, 0.0039, 0.0078],\n          [0.0118, 0.0196, 0.3137,  ..., 0.2196, 0.0235, 0.0078],\n          ...,\n          [0.0078, 0.0196, 0.2157,  ..., 0.1961, 0.0196, 0.0000],\n          [0.0196, 0.0118, 0.0157,  ..., 0.0078, 0.0039, 0.0039],\n          [0.0235, 0.0235, 0.0118,  ..., 0.0118, 0.0118, 0.0118]]]),\n 0)"
     },
     "execution_count": 11,
     "metadata": {},
     "output_type": "execute_result"
    }
   ],
   "source": [
    "dataset[100]"
   ]
  },
  {
   "cell_type": "code",
   "outputs": [],
   "source": [],
   "metadata": {
    "collapsed": false
   },
   "id": "d97d7ce22a9fc80e"
  }
 ],
 "metadata": {
  "kernelspec": {
   "display_name": "Python 3 (ipykernel)",
   "language": "python",
   "name": "python3"
  },
  "language_info": {
   "codemirror_mode": {
    "name": "ipython",
    "version": 3
   },
   "file_extension": ".py",
   "mimetype": "text/x-python",
   "name": "python",
   "nbconvert_exporter": "python",
   "pygments_lexer": "ipython3",
   "version": "3.11.6"
  }
 },
 "nbformat": 4,
 "nbformat_minor": 5
}
